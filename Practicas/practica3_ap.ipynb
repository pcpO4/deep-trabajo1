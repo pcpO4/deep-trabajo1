{
  "nbformat": 4,
  "nbformat_minor": 0,
  "metadata": {
    "colab": {
      "provenance": [],
      "gpuType": "T4"
    },
    "kernelspec": {
      "name": "python3",
      "display_name": "Python 3"
    },
    "language_info": {
      "name": "python"
    },
    "accelerator": "GPU"
  },
  "cells": [
    {
      "cell_type": "markdown",
      "metadata": {
        "id": "title_cell"
      },
      "source": [
        "# Práctica 3: CNNs para MNIST\n",
        "\n",
        "Implementación de varias arquitecturas CNN (combinando capas vistas en clase) y comparación de su rendimiento en MNIST.\n"
      ]
    },
    {
      "cell_type": "code",
      "source": [
        "# Configuración inicial\n",
        "import numpy as np\n",
        "import matplotlib.pyplot as plt\n",
        "import seaborn as sns\n",
        "from sklearn.metrics import classification_report, confusion_matrix\n",
        "import tensorflow as tf\n",
        "from tensorflow import keras\n",
        "from tensorflow.keras import layers, models\n",
        "from tensorflow.keras.datasets import mnist\n",
        "from tensorflow.keras.utils import to_categorical\n",
        "import time\n",
        "\n",
        "np.random.seed(42)\n",
        "tf.random.set_seed(42)\n",
        "plt.style.use('seaborn-v0_8-whitegrid')\n",
        "\n",
        "print(f\"TensorFlow: {tf.__version__}\")\n",
        "print(f\"GPU disponible: {len(tf.config.list_physical_devices('GPU')) > 0}\")"
      ],
      "metadata": {
        "id": "setup_cell"
      },
      "execution_count": null,
      "outputs": []
    },
    {
      "cell_type": "code",
      "source": [
        "# Carga y preprocesamiento\n",
        "(x_train, y_train), (x_test, y_test) = mnist.load_data()\n",
        "x_train = (x_train.astype('float32') / 255.0).reshape(-1, 28, 28, 1)\n",
        "x_test  = (x_test.astype('float32') / 255.0).reshape(-1, 28, 28, 1)\n",
        "y_train_cat = to_categorical(y_train, 10)\n",
        "y_test_cat  = to_categorical(y_test, 10)\n",
        "print(x_train.shape, y_train_cat.shape)"
      ],
      "metadata": {
        "id": "data_prep"
      },
      "execution_count": null,
      "outputs": []
    },
    {
      "cell_type": "code",
      "source": [
        "# Definición de arquitecturas CNN\n",
        "def create_cnn_basic():\n",
        "    model = models.Sequential([\n",
        "        layers.Conv2D(32, (3, 3), activation='relu', input_shape=(28, 28, 1)),\n",
        "        layers.MaxPooling2D((2, 2)),\n",
        "        layers.Conv2D(64, (3, 3), activation='relu'),\n",
        "        layers.MaxPooling2D((2, 2)),\n",
        "        layers.Flatten(),\n",
        "        layers.Dense(128, activation='relu'),\n",
        "        layers.Dense(10, activation='softmax')\n",
        "    ], name='CNN_Basic')\n",
        "    return model\n",
        "\n",
        "def create_cnn_dropout():\n",
        "    model = models.Sequential([\n",
        "        layers.Conv2D(32, (3, 3), activation='relu', input_shape=(28, 28, 1)),\n",
        "        layers.MaxPooling2D((2, 2)),\n",
        "        layers.Conv2D(64, (3, 3), activation='relu'),\n",
        "        layers.MaxPooling2D((2, 2)),\n",
        "        layers.Conv2D(128, (3, 3), activation='relu'),\n",
        "        layers.Flatten(),\n",
        "        layers.Dropout(0.5),\n",
        "        layers.Dense(256, activation='relu'),\n",
        "        layers.Dropout(0.3),\n",
        "        layers.Dense(10, activation='softmax')\n",
        "    ], name='CNN_Dropout')\n",
        "    return model\n",
        "\n",
        "def create_cnn_batchnorm():\n",
        "    model = models.Sequential([\n",
        "        layers.Conv2D(64, (3, 3), activation='relu', input_shape=(28, 28, 1)),\n",
        "        layers.BatchNormalization(),\n",
        "        layers.MaxPooling2D((2, 2)),\n",
        "        layers.Conv2D(128, (3, 3), activation='relu'),\n",
        "        layers.BatchNormalization(),\n",
        "        layers.MaxPooling2D((2, 2)),\n",
        "        layers.Conv2D(256, (3, 3), activation='relu'),\n",
        "        layers.BatchNormalization(),\n",
        "        layers.Flatten(),\n",
        "        layers.Dense(512, activation='relu'),\n",
        "        layers.BatchNormalization(),\n",
        "        layers.Dropout(0.3),\n",
        "        layers.Dense(10, activation='softmax')\n",
        "    ], name='CNN_BatchNorm')\n",
        "    return model\n",
        "\n",
        "def create_cnn_deep():\n",
        "    model = models.Sequential([\n",
        "        layers.Conv2D(32, (3, 3), activation='relu', input_shape=(28, 28, 1), padding='same'),\n",
        "        layers.Conv2D(32, (3, 3), activation='relu', padding='same'),\n",
        "        layers.MaxPooling2D((2, 2)),\n",
        "        layers.Conv2D(64, (3, 3), activation='relu', padding='same'),\n",
        "        layers.Conv2D(64, (3, 3), activation='relu', padding='same'),\n",
        "        layers.MaxPooling2D((2, 2)),\n",
        "        layers.Conv2D(128, (3, 3), activation='relu', padding='same'),\n",
        "        layers.Conv2D(128, (3, 3), activation='relu', padding='same'),\n",
        "        layers.MaxPooling2D((2, 2)),\n",
        "        layers.Flatten(),\n",
        "        layers.Dense(512, activation='relu'),\n",
        "        layers.Dropout(0.5),\n",
        "        layers.Dense(256, activation='relu'),\n",
        "        layers.Dropout(0.3),\n",
        "        layers.Dense(10, activation='softmax')\n",
        "    ], name='CNN_Deep')\n",
        "    return model\n",
        "\n",
        "def create_cnn_compact():\n",
        "    model = models.Sequential([\n",
        "        layers.Conv2D(32, (5, 5), activation='relu', input_shape=(28, 28, 1)),\n",
        "        layers.MaxPooling2D((2, 2)),\n",
        "        layers.Conv2D(64, (3, 3), activation='relu'),\n",
        "        layers.MaxPooling2D((2, 2)),\n",
        "        layers.GlobalAveragePooling2D(),\n",
        "        layers.Dropout(0.4),\n",
        "        layers.Dense(64, activation='relu'),\n",
        "        layers.Dense(10, activation='softmax')\n",
        "    ], name='CNN_Compact')\n",
        "    return model\n",
        "\n",
        "print('Arquitecturas definidas')"
      ],
      "metadata": {
        "id": "architectures"
      },
      "execution_count": null,
      "outputs": []
    },
    {
      "cell_type": "code",
      "source": [
        "# Entrenamiento y evaluación\n",
        "cnn_models = {\n",
        "    'CNN_Basic': create_cnn_basic(),\n",
        "    'CNN_Dropout': create_cnn_dropout(),\n",
        "    'CNN_BatchNorm': create_cnn_batchnorm(),\n",
        "    'CNN_Deep': create_cnn_deep(),\n",
        "    'CNN_Compact': create_cnn_compact()\n",
        "}\n",
        "\n",
        "EPOCHS = 10\n",
        "BATCH_SIZE = 128\n",
        "\n",
        "results = {}\n",
        "histories = {}\n",
        "\n",
        "for name, model in cnn_models.items():\n",
        "    print(f'\nEntrenando: {name}')\n",
        "    model.compile(optimizer='adam', loss='categorical_crossentropy', metrics=['accuracy'])\n",
        "    history = model.fit(x_train, y_train_cat, validation_split=0.1, epochs=EPOCHS, batch_size=BATCH_SIZE, verbose=1)\n",
        "    test_loss, test_acc = model.evaluate(x_test, y_test_cat, verbose=0)\n",
        "    results[name] = {'model': model, 'test_accuracy': test_acc, 'test_loss': test_loss, 'params': model.count_params()}\n",
        "    histories[name] = history.history\n",
        "    print(f'  Acc Test: {test_acc:.4f} | Loss Test: {test_loss:.4f} | Params: {model.count_params():,}')"
      ],
      "metadata": {
        "id": "training_eval"
      },
      "execution_count": null,
      "outputs": []
    },
    {
      "cell_type": "code",
      "source": [
        "# Visualización básica de curvas\n",
        "fig, axes = plt.subplots(1, 2, figsize=(14, 5))\n",
        "for name, h in histories.items():\n",
        "    axes[0].plot(h['val_accuracy'], label=name)\n",
        "    axes[1].plot(h['val_loss'], label=name)\n",
        "axes[0].set_title('Val Accuracy'); axes[0].set_xlabel('Época'); axes[0].set_ylabel('Acc'); axes[0].legend()\n",
        "axes[1].set_title('Val Loss'); axes[1].set_xlabel('Época'); axes[1].set_ylabel('Loss'); axes[1].legend()\n",
        "plt.tight_layout(); plt.show()"
      ],
      "metadata": {
        "id": "plots"
      },
      "execution_count": null,
      "outputs": []
    },
    {
      "cell_type": "code",
      "source": [
        "# Tabla comparativa\n",
        "import pandas as pd\n",
        "df = pd.DataFrame([{\n",
        "    'Modelo': k,\n",
        "    'Test Acc': f"{v['test_accuracy']:.4f}",\n",
        "    'Test Loss': f"{v['test_loss']:.4f}",\n",
        "    'Parámetros': f"{v['params']:,}"\n",
        "} for k, v in results.items()]).sort_values('Test Acc', ascending=False)\n",
        "print(df.to_string(index=False))\n",
        "\n",
        "best_model_name = max(results.keys(), key=lambda x: results[x]['test_accuracy'])\n",
        "best_model = results[best_model_name]['model']\n",
        "print(f"\nMejor modelo: {best_model_name} - Test Acc: {results[best_model_name]['test_accuracy']:.4f}")"
      ],
      "metadata": {
        "id": "table"
      },
      "execution_count": null,
      "outputs": []
    }
  ]
}