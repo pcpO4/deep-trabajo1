{
  "cells": [
    {
      "cell_type": "markdown",
      "metadata": {},
      "source": [
        "# Auto-setup (pandas/pyarrow)\n",
        "Ejecuta esta celda UNA VEZ si ves errores al abrir/leer datos.\n"
      ]
    },
    {
      "cell_type": "code",
      "execution_count": null,
      "metadata": {},
      "outputs": [],
      "source": [
        