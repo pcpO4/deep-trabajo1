{
  "cells": [
    {
      "cell_type": "markdown",
      "metadata": {},
      "source": [
        "# Auto-setup (pandas/pyarrow)\n",
        "Ejecuta esta celda UNA VEZ si ves errores al abrir/leer datos.\n"
      ]
    },
    {
      "cell_type": "code",
      "execution_count": null,
      "metadata": {},
      "outputs": [],
      "source": [
        "try:\n",
        "    import pandas as pd, pyarrow as pa\n",
        "    print('✅ Entorno OK: pandas/pyarrow disponibles')\n",
        "except Exception as e:\n",
        "    import sys, subprocess\n",
        "    print('Instalando pandas==2.1.4 y pyarrow==14.0.2 ...')\n",
        "    subprocess.check_call([sys.executable, '-m', 'pip', 'install', '--upgrade', 'pandas==2.1.4', 'pyarrow==14.0.2'])\n",
        "    print('➡️  Reinicia el kernel y vuelve a ejecutar el notebook')\n"
      ]
    }
  ],
  "metadata": {"kernelspec": {"display_name": "Python 3", "language": "python", "name": "python3"}},
  "nbformat": 4,
  "nbformat_minor": 4
}