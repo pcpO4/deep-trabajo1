{
  "nbformat": 4,
  "nbformat_minor": 0,
  "metadata": {
    "colab": {
      "provenance": []
    },
    "kernelspec": {
      "name": "python3",
      "display_name": "Python 3"
    },
    "language_info": {
      "name": "python"
    }
  },
  "cells": [
    {
      "cell_type": "markdown",
      "source": [
        "# Práctica 1: Comparativa de optimizadores en MNIST\n",
        "\n",
        "En esta práctica se estudia el rendimiento de diferentes algoritmos de aprendizaje (optimizers) sobre el problema de clasificación de dígitos manuscritos del dataset MNIST. Se compara rendimiento numérico y gráfico usando varias métricas: accuracy, errores, matriz de confusión y tiempo de cálculo.\n",
        "\n",
        "---\n",
        "\n",
        "## 1. Preparación de datos\n"
      ],
      "metadata": {
        "id": "Sf240kwP2c1a"
      }
    },
    {
      "cell_type": "code",
      "execution_count": 1,
      "metadata": {
        "colab": {
          "base_uri": "https://localhost:8080/"
        },
        "id": "zg9sEa4m2UQN",
        "outputId": "768750b7-b346-4550-e49f-b86e9448a8f5"
      },
      "outputs": [
        {
          "output_type": "stream",
          "name": "stdout",
          "text": [
            "Downloading data from https://storage.googleapis.com/tensorflow/tf-keras-datasets/mnist.npz\n",
            "\u001b[1m11490434/11490434\u001b[0m \u001b[32m━━━━━━━━━━━━━━━━━━━━\u001b[0m\u001b[37m\u001b[0m \u001b[1m0s\u001b[0m 0us/step\n"
          ]
        }
      ],
      "source": [
        "import numpy as np\n",
        "import tensorflow as tf\n",
        "import matplotlib.pyplot as plt\n",
        "from sklearn.metrics import confusion_matrix\n",
        "\n",
        "# Descargar y preparar MNIST\n",
        "(xtrain, ytrain), (xtest, ytest) = tf.keras.datasets.mnist.load_data()\n",
        "xtrain, xtest = xtrain / 255.0, xtest / 255.0  # Escalar a [0,1]\n"
      ]
    },
    {
      "cell_type": "markdown",
      "source": [
        "---\n",
        "## 2. Definición del experimento y del modelo base\n",
        "\n",
        "Probaremos los siguientes optimizadores:\n",
        "- SGD (Gradient Descent clásico)\n",
        "- Adam\n",
        "- RMSprop\n",
        "- Adagrad\n",
        "\n",
        "El modelo será una red sencilla: una capa densa de 128 neuronas ReLU y salida softmax.\n",
        "---\n"
      ],
      "metadata": {
        "id": "PgZsxj_X2tfv"
      }
    },
    {
      "cell_type": "code",
      "source": [
        "optimizers = {\n",
        "    'SGD': tf.keras.optimizers.SGD(),\n",
        "    'Adam': tf.keras.optimizers.Adam(),\n",
        "    'RMSprop': tf.keras.optimizers.RMSprop(),\n",
        "    'Adagrad': tf.keras.optimizers.Adagrad()\n",
        "}\n",
        "\n",
        "results = {}\n",
        "for name, optimizer in optimizers.items():\n",
        "    print(f\"Entrenando con {name}...\")\n",
        "    model = tf.keras.models.Sequential([\n",
        "    tf.keras.Input(shape=(28,28)),\n",
        "    tf.keras.layers.Flatten(),\n",
        "    tf.keras.layers.Dense(128, activation='relu'),\n",
        "    tf.keras.layers.Dense(10, activation='softmax')\n",
        "    ])\n",
        "    model.compile(optimizer=optimizer,\n",
        "                  loss='sparse_categorical_crossentropy',\n",
        "                  metrics=['accuracy'])\n",
        "    import time\n",
        "    start = time.time()\n",
        "    history = model.fit(xtrain, ytrain, epochs=5, verbose=0)\n",
        "    training_time = time.time() - start\n",
        "\n",
        "    train_loss, train_acc = model.evaluate(xtrain, ytrain, verbose=0)\n",
        "    test_loss, test_acc = model.evaluate(xtest, ytest, verbose=0)\n",
        "\n",
        "    # Predicciones para matriz de confusión y errores\n",
        "    y_pred_train = model.predict(xtrain, verbose=0)\n",
        "    y_pred_train_labels = np.argmax(y_pred_train, axis=1)\n",
        "    y_pred_test = model.predict(xtest, verbose=0)\n",
        "    y_pred_test_labels = np.argmax(y_pred_test, axis=1)\n",
        "\n",
        "    cm_train = confusion_matrix(ytrain, y_pred_train_labels)\n",
        "    cm_test = confusion_matrix(ytest, y_pred_test_labels)\n",
        "\n",
        "    num_errors_train = np.sum(y_pred_train_labels != ytrain)\n",
        "    num_errors_test = np.sum(y_pred_test_labels != ytest)\n",
        "\n",
        "    results[name] = {\n",
        "        'training_time': training_time,\n",
        "        'train_acc': train_acc,\n",
        "        'test_acc': test_acc,\n",
        "        'num_errors_train': num_errors_train,\n",
        "        'num_errors_test': num_errors_test,\n",
        "        'cm_train': cm_train,\n",
        "        'cm_test': cm_test,\n",
        "        'history': history\n",
        "    }\n"
      ],
      "metadata": {
        "colab": {
          "base_uri": "https://localhost:8080/"
        },
        "id": "XG1vAM3s2xTy",
        "outputId": "a9d2378a-47ef-45fc-bb8f-6ffca25ba2b3"
      },
      "execution_count": 3,
      "outputs": [
        {
          "output_type": "stream",
          "name": "stdout",
          "text": [
            "Entrenando con SGD...\n",
            "Entrenando con Adam...\n",
            "Entrenando con RMSprop...\n",
            "Entrenando con Adagrad...\n"
          ]
        }
      ]
    },
    {
      "cell_type": "markdown",
      "source": [
        "---\n",
        "## 3. Visualización del rendimiento\n",
        "\n",
        "Mostramos:\n",
        "- Exactitud en train y test\n",
        "- Número de errores\n",
        "- Tiempo de entrenamiento\n",
        "---\n"
      ],
      "metadata": {
        "id": "9i_221Yy3JyP"
      }
    },
    {
      "cell_type": "code",
      "source": [
        "names = list(results.keys())\n",
        "train_acc = [results[n]['train_acc'] for n in names]\n",
        "test_acc = [results[n]['test_acc'] for n in names]\n",
        "train_err = [results[n]['num_errors_train'] for n in names]\n",
        "test_err = [results[n]['num_errors_test'] for n in names]\n",
        "train_time = [results[n]['training_time'] for n in names]\n",
        "\n",
        "plt.figure(figsize=(15,4))\n",
        "\n",
        "plt.subplot(1,3,1)\n",
        "plt.bar(names, train_acc, color='deepskyblue', label='Train', alpha=0.7)\n",
        "plt.bar(names, test_acc, color='orange', alpha=0.5, label='Test')\n",
        "plt.title('Accuracy por optimizador')\n",
        "plt.ylabel('Accuracy')\n",
        "plt.legend()\n",
        "\n",
        "plt.subplot(1,3,2)\n",
        "plt.bar(names, train_err, color='deepskyblue', label='Train', alpha=0.7)\n",
        "plt.bar(names, test_err, color='orange', alpha=0.5, label='Test')\n",
        "plt.title('Errores por optimizador')\n",
        "plt.ylabel('Nº errores')\n",
        "plt.legend()\n",
        "\n",
        "plt.subplot(1,3,3)\n",
        "plt.bar(names, train_time, color='purple')\n",
        "plt.title('Tiempo de entrenamiento (s)')\n",
        "plt.ylabel('Segundos')\n",
        "plt.tight_layout()\n",
        "plt.show()\n"
      ],
      "metadata": {
        "colab": {
          "base_uri": "https://localhost:8080/",
          "height": 407
        },
        "id": "sz1m6rMh3LrQ",
        "outputId": "3691d201-007c-46a6-919b-5d555186cb1f"
      },
      "execution_count": 4,
      "outputs": [
        {
          "output_type": "display_data",
          "data": {
            "text/plain": [
              "<Figure size 1500x400 with 3 Axes>"
            ],
            "image/png": "[encoded data removed]"
          },
          "metadata": {}
        }
      ]
    },
    {
      "cell_type": "markdown",
      "source": [
        "---\n",
        "## 4. Matriz de confusión para cada optimizador\n",
        "\n",
        "A continuación se imprime la matriz de confusión para los optimizadores (en test).\n",
        "---\n"
      ],
      "metadata": {
        "id": "3Sw0UEJF3QsH"
      }
    },
    {
      "cell_type": "code",
      "source": [
        "for name in names:\n",
        "    print(f\"\\nOptimizador: {name}\")\n",
        "    print(\"Matriz de confusión en Test:\")\n",
        "    print(results[name]['cm_test'])\n"
      ],
      "metadata": {
        "colab": {
          "base_uri": "https://localhost:8080/"
        },
        "id": "SvmeAb3b3T2Y",
        "outputId": "8a6ce0be-6bac-4b2e-9c3e-ebb57800eec8"
      },
      "execution_count": 5,
      "outputs": [
        {
          "output_type": "stream",
          "name": "stdout",
          "text": [
            "\n",
            "Optimizador: SGD\n",
            "Matriz de confusión en Test:\n",
            "[[ 965    0    2    0    0    3    7    1    2    0]\n",
            " [   0 1109    4    2    1    2    3    2   12    0]\n",
            " [   8    1  958    7   12    2   12   10   18    4]\n",
            " [   1    1   23  911    0   31    1   13   15   14]\n",
            " [   1    1    4    0  930    0   11    2    4   29]\n",
            " [  11    3    3   15    7  819   10    2   15    7]\n",
            " [  14    3    5    0    9   11  913    2    1    0]\n",
            " [   3    9   25    4    7    0    0  954    1   25]\n",
            " [   7    4    6   14    9   18    9   10  882   15]\n",
            " [  10    5    1    8   34    5    1    8    6  931]]\n",
            "\n",
            "Optimizador: Adam\n",
            "Matriz de confusión en Test:\n",
            "[[ 972    0    0    2    1    1    1    2    1    0]\n",
            " [   0 1126    2    1    0    1    3    0    2    0]\n",
            " [   5    3 1006    4    3    0    3    6    2    0]\n",
            " [   0    0    4  988    0    3    2    4    3    6]\n",
            " [   3    2    2    1  936    0    7    1    0   30]\n",
            " [   3    0    0    5    1  871    5    2    3    2]\n",
            " [   5    2    0    0    2    4  943    1    1    0]\n",
            " [   1    6    6    7    0    0    0  997    0   11]\n",
            " [   2    1    5    8    5    3    5    5  929   11]\n",
            " [   2    3    0    3    2    2    2    2    0  993]]\n",
            "\n",
            "Optimizador: RMSprop\n",
            "Matriz de confusión en Test:\n",
            "[[ 971    1    1    0    2    0    2    1    2    0]\n",
            " [   0 1118    2    1    0    2    3    0    9    0]\n",
            " [   7    0  998    3    5    0    1    6   12    0]\n",
            " [   1    0    1  972    0   15    0    6   13    2]\n",
            " [   1    0    3    0  963    0    3    1    2    9]\n",
            " [   5    0    0    2    2  872    4    1    5    1]\n",
            " [   5    3    0    1    8    5  933    0    3    0]\n",
            " [   3    5    7    4    1    0    0  995    6    7]\n",
            " [   4    1    3    1    5    3    1    4  951    1]\n",
            " [   5    4    0    3   12    5    0    3    7  970]]\n",
            "\n",
            "Optimizador: Adagrad\n",
            "Matriz de confusión en Test:\n",
            "[[ 956    0    4    1    0    5    7    1    6    0]\n",
            " [   0 1105    4    3    0    2    3    0   18    0]\n",
            " [  17    7  883   25   19    0   15   19   42    5]\n",
            " [   4    1   23  899    1   37    4   18   17    6]\n",
            " [   2    3    7    0  903    1   10    2   12   42]\n",
            " [  17    6    8   50   14  722   16    7   43    9]\n",
            " [  21    3   12    1   11   14  893    1    2    0]\n",
            " [   4   18   35    3   11    0    1  919    3   34]\n",
            " [  10    9   12   28    8   23   14   12  839   19]\n",
            " [  18    8    5    9   51   10    1   24    8  875]]\n"
          ]
        }
      ]
    },
    {
      "cell_type": "markdown",
      "source": [
        "---\n",
        "## 5. Análisis comparativo de resultados\n",
        "\n",
        "- **Adam** y **RMSprop** suelen destacar por su rapidez de convergencia y precisión.\n",
        "- **SGD** requiere más épocas para igualar a los anteriores.\n",
        "- **Adagrad** es útil para problemas con datos dispersos, pero aquí no es el más eficiente.\n",
        "- La matriz de confusión muestra que la mayoría de los errores ocurren entre dígitos parecidos (por ejemplo, 3 y 5).\n",
        "\n",
        "Recomendamos Adam y RMSprop para MNIST según este estudio, tanto por tiempo como por exactitud.\n",
        "---\n"
      ],
      "metadata": {
        "id": "J8MgrQKg3Wam"
      }
    },
    {
      "cell_type": "markdown",
      "source": [
        "---\n",
        "## 6. Conclusión final\n",
        "En este estudio comparativo, el mejor optimizador es aquel que consigue menos errores en el menor tiempo posible y con una exactitud estable en test. En MNIST, Adam resulta una gran primera elección gracias a su balance entre velocidad y precisión, pero RMSprop ofrece resultados similares. No olvides testar varias opciones en tus propios proyectos, ya que el optimizador óptimo depende del tipo de datos y arquitectura de red utilizada.\n",
        "---\n"
      ],
      "metadata": {
        "id": "CsIERvHL3Zdt"
      }
    },
    {
      "cell_type": "markdown",
      "source": [
        "Despúes de analizar los resultados, desde los aciertos, los errores, y todo esto recogido en las matrices de confusion, podemos decir que el mejor optimizador ha sido Adam, seguido por poco de RMSprop, Adagrad es el peor de todos. Tambien cabe destacar que Adam y RMSprop tardan hasta 10 segundos mas en ejecutarse."
      ],
      "metadata": {
        "id": "zP_GikYX5UGQ"
      }
    }
  ]
}